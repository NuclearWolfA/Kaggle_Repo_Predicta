{
 "cells": [
  {
   "cell_type": "code",
   "execution_count": 1,
   "id": "e674377e",
   "metadata": {
    "_cell_guid": "b1076dfc-b9ad-4769-8c92-a6c4dae69d19",
    "_uuid": "8f2839f25d086af736a60e9eeb907d3b93b6e0e5",
    "execution": {
     "iopub.execute_input": "2024-06-23T12:42:47.125903Z",
     "iopub.status.busy": "2024-06-23T12:42:47.125522Z",
     "iopub.status.idle": "2024-06-23T12:42:48.003666Z",
     "shell.execute_reply": "2024-06-23T12:42:48.002378Z"
    },
    "papermill": {
     "duration": 0.887445,
     "end_time": "2024-06-23T12:42:48.007383",
     "exception": false,
     "start_time": "2024-06-23T12:42:47.119938",
     "status": "completed"
    },
    "tags": []
   },
   "outputs": [
    {
     "name": "stdout",
     "output_type": "stream",
     "text": [
      "/kaggle/input/predicta-1-0-predict-the-unpredictable-part-2/daily_data.csv\n",
      "/kaggle/input/predicta-1-0-predict-the-unpredictable-part-2/submission.csv\n"
     ]
    }
   ],
   "source": [
    "# This Python 3 environment comes with many helpful analytics libraries installed\n",
    "# It is defined by the kaggle/python Docker image: https://github.com/kaggle/docker-python\n",
    "# For example, here's several helpful packages to load\n",
    "\n",
    "import numpy as np # linear algebra\n",
    "import pandas as pd # data processing, CSV file I/O (e.g. pd.read_csv)\n",
    "\n",
    "# Input data files are available in the read-only \"../input/\" directory\n",
    "# For example, running this (by clicking run or pressing Shift+Enter) will list all files under the input directory\n",
    "\n",
    "import os\n",
    "for dirname, _, filenames in os.walk('/kaggle/input'):\n",
    "    for filename in filenames:\n",
    "        print(os.path.join(dirname, filename))\n",
    "\n",
    "# You can write up to 20GB to the current directory (/kaggle/working/) that gets preserved as output when you create a version using \"Save & Run All\" \n",
    "# You can also write temporary files to /kaggle/temp/, but they won't be saved outside of the current session"
   ]
  },
  {
   "cell_type": "code",
   "execution_count": 2,
   "id": "7ecd3a03",
   "metadata": {
    "execution": {
     "iopub.execute_input": "2024-06-23T12:42:48.021628Z",
     "iopub.status.busy": "2024-06-23T12:42:48.020606Z",
     "iopub.status.idle": "2024-06-23T12:42:48.095324Z",
     "shell.execute_reply": "2024-06-23T12:42:48.094289Z"
    },
    "papermill": {
     "duration": 0.084736,
     "end_time": "2024-06-23T12:42:48.097931",
     "exception": false,
     "start_time": "2024-06-23T12:42:48.013195",
     "status": "completed"
    },
    "tags": []
   },
   "outputs": [],
   "source": [
    "daily_data = pd.read_csv(\"/kaggle/input/predicta-1-0-predict-the-unpredictable-part-2/daily_data.csv\",index_col = 0)\n",
    "submission = pd.read_csv(\"/kaggle/input/predicta-1-0-predict-the-unpredictable-part-2/submission.csv\",index_col = 0)"
   ]
  },
  {
   "cell_type": "code",
   "execution_count": 3,
   "id": "a393eab2",
   "metadata": {
    "execution": {
     "iopub.execute_input": "2024-06-23T12:42:48.106936Z",
     "iopub.status.busy": "2024-06-23T12:42:48.106556Z",
     "iopub.status.idle": "2024-06-23T12:42:49.292547Z",
     "shell.execute_reply": "2024-06-23T12:42:49.291627Z"
    },
    "papermill": {
     "duration": 1.19319,
     "end_time": "2024-06-23T12:42:49.294967",
     "exception": false,
     "start_time": "2024-06-23T12:42:48.101777",
     "status": "completed"
    },
    "tags": []
   },
   "outputs": [],
   "source": [
    "from sklearn.preprocessing import MinMaxScaler\n",
    "feaures_to_scale =['temperature_celsius','wind_kph','pressure_mb','precip_mm','humidity','cloud','feels_like_celsius','visibility_km','uv_index','gust_kph']\n",
    "scaler = MinMaxScaler()\n",
    "daily_data[feaures_to_scale] = scaler.fit_transform(daily_data[feaures_to_scale])"
   ]
  },
  {
   "cell_type": "code",
   "execution_count": 4,
   "id": "ba7da3f1",
   "metadata": {
    "execution": {
     "iopub.execute_input": "2024-06-23T12:42:49.304234Z",
     "iopub.status.busy": "2024-06-23T12:42:49.303745Z",
     "iopub.status.idle": "2024-06-23T12:42:49.337478Z",
     "shell.execute_reply": "2024-06-23T12:42:49.336418Z"
    },
    "papermill": {
     "duration": 0.042119,
     "end_time": "2024-06-23T12:42:49.340915",
     "exception": false,
     "start_time": "2024-06-23T12:42:49.298796",
     "status": "completed"
    },
    "tags": []
   },
   "outputs": [
    {
     "name": "stdout",
     "output_type": "stream",
     "text": [
      "        city_id  temperature_celsius condition_text  wind_kph  wind_degree  \\\n",
      "day_id                                                                       \n",
      "D0001         1             0.617021            NaN  0.035411          210   \n",
      "D0002         1             0.510638            NaN  0.035411          170   \n",
      "D0005         1             0.425532            NaN  0.000000           92   \n",
      "D0006         1             0.468085            NaN  0.000000           96   \n",
      "D0008         1             0.489362            NaN  0.235127          330   \n",
      "...         ...                  ...            ...       ...          ...   \n",
      "D2888       112             0.457447            NaN  0.184136          113   \n",
      "D2890       112             0.412766            NaN  0.133144           51   \n",
      "D2891       112             0.451064            NaN  0.111898           46   \n",
      "D2892       112             0.451064            NaN  0.152975           76   \n",
      "D2893       112             0.438298            NaN  0.194051           61   \n",
      "\n",
      "        pressure_mb  precip_mm  humidity  cloud  feels_like_celsius  \\\n",
      "day_id                                                                \n",
      "D0001      0.444444        0.0  0.520833   0.75            0.414634   \n",
      "D0002      0.444444        0.0  0.718750   0.75            0.369705   \n",
      "D0005      0.685185        0.0  0.937500   0.00            0.286264   \n",
      "D0006      0.685185        0.0  0.875000   0.00            0.311938   \n",
      "D0008      0.537037        0.0  0.510417   0.75            0.324775   \n",
      "...             ...        ...       ...    ...                 ...   \n",
      "D2888      0.611111        0.0  0.354167   0.00            0.305520   \n",
      "D2890      0.648148        0.0  0.468750   0.00            0.278562   \n",
      "D2891      0.629630        0.0  0.312500   0.00            0.301669   \n",
      "D2892      0.648148        0.0  0.427083   0.02            0.301669   \n",
      "D2893      0.629630        0.0  0.312500   0.00            0.293967   \n",
      "\n",
      "        visibility_km  uv_index  gust_kph  air_quality_us-epa-index   sunrise  \\\n",
      "day_id                                                                          \n",
      "D0001          0.3125  0.555556  0.149533                         2  06:04 AM   \n",
      "D0002          0.3125  0.000000  0.303071                         1  06:05 AM   \n",
      "D0005          0.3125  0.000000  0.110814                         1  06:07 AM   \n",
      "D0006          0.3125  0.000000  0.140187                         1  06:07 AM   \n",
      "D0008          0.3125  0.000000  0.221629                         1  06:09 AM   \n",
      "...               ...       ...       ...                       ...       ...   \n",
      "D2888          0.3125  0.000000  0.347130                         1  05:50 AM   \n",
      "D2890          0.3125  0.000000  0.287049                         1  05:49 AM   \n",
      "D2891          0.3125  0.000000  0.275033                         2  05:48 AM   \n",
      "D2892          0.3125  0.000000  0.323097                         2  05:47 AM   \n",
      "D2893          0.3125  0.000000  0.393858                         2  05:46 AM   \n",
      "\n",
      "          sunset  \n",
      "day_id            \n",
      "D0001   07:19 PM  \n",
      "D0002   07:18 PM  \n",
      "D0005   07:15 PM  \n",
      "D0006   07:13 PM  \n",
      "D0008   07:10 PM  \n",
      "...          ...  \n",
      "D2888   05:51 PM  \n",
      "D2890   05:52 PM  \n",
      "D2891   05:52 PM  \n",
      "D2892   05:52 PM  \n",
      "D2893   05:52 PM  \n",
      "\n",
      "[2414 rows x 16 columns]\n",
      "        city_id  temperature_celsius           condition_text  wind_kph  \\\n",
      "day_id                                                                    \n",
      "D0003         1             0.468085  Light Rain with Thunder  0.000000   \n",
      "D0004         1             0.404255          Clear and Sunny  0.035411   \n",
      "D0007         1             0.489362            Partly Cloudy  0.005666   \n",
      "D0019         1             0.446809          Clear and Sunny  0.000000   \n",
      "D0028         2             0.446809            Partly Cloudy  0.000000   \n",
      "...         ...                  ...                      ...       ...   \n",
      "D2839       110             0.617021            Partly Cloudy  0.219547   \n",
      "D2864       111             0.497872      Light Precipitation  0.000000   \n",
      "D2874       112             0.402128          Clear and Sunny  0.184136   \n",
      "D2887       112             0.457447          Clear and Sunny  0.025496   \n",
      "D2889       112             0.406383          Clear and Sunny  0.137394   \n",
      "\n",
      "        wind_degree  pressure_mb  precip_mm  humidity  cloud  \\\n",
      "day_id                                                         \n",
      "D0003            10     0.537037   0.156794  1.000000   0.75   \n",
      "D0004           150     0.666667   0.000000  0.875000   0.00   \n",
      "D0007           310     0.611111   0.000000  1.000000   0.50   \n",
      "D0019            64     0.648148   0.000000  0.875000   0.00   \n",
      "D0028            83     0.518519   0.000000  0.718750   0.25   \n",
      "...             ...          ...        ...       ...    ...   \n",
      "D2839            90     0.592593   0.000348  0.687500   0.25   \n",
      "D2864           178     0.555556   0.000000  0.885417   0.75   \n",
      "D2874            68     0.666667   0.000000  0.416667   0.02   \n",
      "D2887            27     0.592593   0.000000  0.312500   0.00   \n",
      "D2889            61     0.648148   0.000000  0.552083   0.03   \n",
      "\n",
      "        feels_like_celsius  visibility_km  uv_index  gust_kph  \\\n",
      "day_id                                                          \n",
      "D0003             0.311938         0.3125  0.000000  0.158879   \n",
      "D0004             0.273427         0.3125  0.000000  0.140187   \n",
      "D0007             0.324775         0.3125  0.000000  0.192256   \n",
      "D0019             0.299101         0.3125  0.000000  0.101469   \n",
      "D0028             0.299101         0.3125  0.000000  0.101469   \n",
      "...                    ...            ...       ...       ...   \n",
      "D2839             0.437741         0.3125  0.555556  0.599466   \n",
      "D2864             0.329910         0.3125  0.555556  0.078772   \n",
      "D2874             0.272144         0.3125  0.000000  0.351135   \n",
      "D2887             0.304236         0.3125  0.000000  0.140187   \n",
      "D2889             0.274711         0.3125  0.000000  0.287049   \n",
      "\n",
      "        air_quality_us-epa-index   sunrise    sunset  \n",
      "day_id                                                \n",
      "D0003                          1  06:05 AM  07:18 PM  \n",
      "D0004                          1  06:06 AM  07:16 PM  \n",
      "D0007                          2  06:08 AM  07:11 PM  \n",
      "D0019                          3  06:20 AM  06:51 PM  \n",
      "D0028                          1  06:17 AM  07:20 PM  \n",
      "...                          ...       ...       ...  \n",
      "D2839                          1  05:39 AM  05:43 PM  \n",
      "D2864                          1  06:17 AM  06:25 PM  \n",
      "D2874                          1  06:02 AM  05:49 PM  \n",
      "D2887                          2  05:51 AM  05:51 PM  \n",
      "D2889                          1  05:49 AM  05:51 PM  \n",
      "\n",
      "[479 rows x 16 columns]\n"
     ]
    },
    {
     "name": "stderr",
     "output_type": "stream",
     "text": [
      "/tmp/ipykernel_18/1778906801.py:2: SettingWithCopyWarning: \n",
      "A value is trying to be set on a copy of a slice from a DataFrame.\n",
      "Try using .loc[row_indexer,col_indexer] = value instead\n",
      "\n",
      "See the caveats in the documentation: https://pandas.pydata.org/pandas-docs/stable/user_guide/indexing.html#returning-a-view-versus-a-copy\n",
      "  X_test['city_id'] = X_test['city_id'].astype(str)\n",
      "/tmp/ipykernel_18/1778906801.py:3: SettingWithCopyWarning: \n",
      "A value is trying to be set on a copy of a slice from a DataFrame.\n",
      "Try using .loc[row_indexer,col_indexer] = value instead\n",
      "\n",
      "See the caveats in the documentation: https://pandas.pydata.org/pandas-docs/stable/user_guide/indexing.html#returning-a-view-versus-a-copy\n",
      "  X_test['city_id'] = X_test['city_id'].str[1:].astype(int)\n",
      "/tmp/ipykernel_18/1778906801.py:6: SettingWithCopyWarning: \n",
      "A value is trying to be set on a copy of a slice from a DataFrame.\n",
      "Try using .loc[row_indexer,col_indexer] = value instead\n",
      "\n",
      "See the caveats in the documentation: https://pandas.pydata.org/pandas-docs/stable/user_guide/indexing.html#returning-a-view-versus-a-copy\n",
      "  X['city_id'] = X['city_id'].astype(str)\n",
      "/tmp/ipykernel_18/1778906801.py:7: SettingWithCopyWarning: \n",
      "A value is trying to be set on a copy of a slice from a DataFrame.\n",
      "Try using .loc[row_indexer,col_indexer] = value instead\n",
      "\n",
      "See the caveats in the documentation: https://pandas.pydata.org/pandas-docs/stable/user_guide/indexing.html#returning-a-view-versus-a-copy\n",
      "  X['city_id'] = X['city_id'].str[1:].astype(int)\n"
     ]
    }
   ],
   "source": [
    "X_test = daily_data[daily_data['condition_text'].isna()]\n",
    "X_test['city_id'] = X_test['city_id'].astype(str)\n",
    "X_test['city_id'] = X_test['city_id'].str[1:].astype(int)\n",
    "\n",
    "X = daily_data[~(daily_data['condition_text'].isna())]\n",
    "X['city_id'] = X['city_id'].astype(str)\n",
    "X['city_id'] = X['city_id'].str[1:].astype(int)\n",
    "\n",
    "\n",
    "print(X_test)\n",
    "print(X)"
   ]
  },
  {
   "cell_type": "code",
   "execution_count": 5,
   "id": "9ffc8319",
   "metadata": {
    "execution": {
     "iopub.execute_input": "2024-06-23T12:42:49.350587Z",
     "iopub.status.busy": "2024-06-23T12:42:49.350201Z",
     "iopub.status.idle": "2024-06-23T12:42:49.354696Z",
     "shell.execute_reply": "2024-06-23T12:42:49.353772Z"
    },
    "papermill": {
     "duration": 0.011664,
     "end_time": "2024-06-23T12:42:49.356728",
     "exception": false,
     "start_time": "2024-06-23T12:42:49.345064",
     "status": "completed"
    },
    "tags": []
   },
   "outputs": [],
   "source": [
    "y = X['condition_text']"
   ]
  },
  {
   "cell_type": "code",
   "execution_count": 6,
   "id": "32485dd7",
   "metadata": {
    "execution": {
     "iopub.execute_input": "2024-06-23T12:42:49.366256Z",
     "iopub.status.busy": "2024-06-23T12:42:49.365899Z",
     "iopub.status.idle": "2024-06-23T12:42:49.375243Z",
     "shell.execute_reply": "2024-06-23T12:42:49.374325Z"
    },
    "papermill": {
     "duration": 0.016615,
     "end_time": "2024-06-23T12:42:49.377473",
     "exception": false,
     "start_time": "2024-06-23T12:42:49.360858",
     "status": "completed"
    },
    "tags": []
   },
   "outputs": [
    {
     "name": "stderr",
     "output_type": "stream",
     "text": [
      "/tmp/ipykernel_18/2861738084.py:1: SettingWithCopyWarning: \n",
      "A value is trying to be set on a copy of a slice from a DataFrame\n",
      "\n",
      "See the caveats in the documentation: https://pandas.pydata.org/pandas-docs/stable/user_guide/indexing.html#returning-a-view-versus-a-copy\n",
      "  X_test.drop(['sunrise','sunset','condition_text','feels_like_celsius','air_quality_us-epa-index','uv_index'],axis=1,inplace=True)\n",
      "/tmp/ipykernel_18/2861738084.py:2: SettingWithCopyWarning: \n",
      "A value is trying to be set on a copy of a slice from a DataFrame\n",
      "\n",
      "See the caveats in the documentation: https://pandas.pydata.org/pandas-docs/stable/user_guide/indexing.html#returning-a-view-versus-a-copy\n",
      "  X.drop(['sunrise','sunset','condition_text','feels_like_celsius','air_quality_us-epa-index','uv_index'],axis=1,inplace=True)\n"
     ]
    }
   ],
   "source": [
    "X_test.drop(['sunrise','sunset','condition_text','feels_like_celsius','air_quality_us-epa-index','uv_index'],axis=1,inplace=True)\n",
    "X.drop(['sunrise','sunset','condition_text','feels_like_celsius','air_quality_us-epa-index','uv_index'],axis=1,inplace=True)"
   ]
  },
  {
   "cell_type": "code",
   "execution_count": 7,
   "id": "9a4e6530",
   "metadata": {
    "execution": {
     "iopub.execute_input": "2024-06-23T12:42:49.387777Z",
     "iopub.status.busy": "2024-06-23T12:42:49.387422Z",
     "iopub.status.idle": "2024-06-23T12:42:49.827568Z",
     "shell.execute_reply": "2024-06-23T12:42:49.826697Z"
    },
    "papermill": {
     "duration": 0.448363,
     "end_time": "2024-06-23T12:42:49.830146",
     "exception": false,
     "start_time": "2024-06-23T12:42:49.381783",
     "status": "completed"
    },
    "tags": []
   },
   "outputs": [],
   "source": [
    "from sklearn.model_selection import train_test_split\n",
    "from sklearn.ensemble import RandomForestClassifier\n",
    "from sklearn.metrics import accuracy_score\n",
    "from sklearn.model_selection import cross_val_score\n",
    "from sklearn.model_selection import GridSearchCV"
   ]
  },
  {
   "cell_type": "code",
   "execution_count": 8,
   "id": "805038db",
   "metadata": {
    "execution": {
     "iopub.execute_input": "2024-06-23T12:42:49.840130Z",
     "iopub.status.busy": "2024-06-23T12:42:49.839742Z",
     "iopub.status.idle": "2024-06-23T12:42:49.848818Z",
     "shell.execute_reply": "2024-06-23T12:42:49.847964Z"
    },
    "papermill": {
     "duration": 0.016606,
     "end_time": "2024-06-23T12:42:49.851075",
     "exception": false,
     "start_time": "2024-06-23T12:42:49.834469",
     "status": "completed"
    },
    "tags": []
   },
   "outputs": [],
   "source": [
    "X_train, X_val, y_train, y_val = train_test_split(X, y, test_size=0.2, random_state=42)"
   ]
  },
  {
   "cell_type": "code",
   "execution_count": 9,
   "id": "a0387c4c",
   "metadata": {
    "execution": {
     "iopub.execute_input": "2024-06-23T12:42:49.861935Z",
     "iopub.status.busy": "2024-06-23T12:42:49.860963Z",
     "iopub.status.idle": "2024-06-23T12:44:20.291912Z",
     "shell.execute_reply": "2024-06-23T12:44:20.290686Z"
    },
    "papermill": {
     "duration": 90.439124,
     "end_time": "2024-06-23T12:44:20.294514",
     "exception": false,
     "start_time": "2024-06-23T12:42:49.855390",
     "status": "completed"
    },
    "tags": []
   },
   "outputs": [
    {
     "name": "stdout",
     "output_type": "stream",
     "text": [
      "Cross-validation accuracy scores: [0.625      0.64583333 0.65625    0.71875    0.63157895]\n",
      "Mean accuracy: 0.6554824561403508\n",
      "Standard deviation of accuracy: 0.033457539253543916\n",
      "train accuracy0.7014613778705637\n"
     ]
    }
   ],
   "source": [
    "model =RandomForestClassifier(\n",
    "    n_estimators=4200,\n",
    "    criterion='entropy',\n",
    "    max_depth=20,\n",
    "    #min_samples_split=2,\n",
    "    #min_samples_leaf=1,\n",
    "    #min_weight_fraction_leaf=0.005,\n",
    "    #max_features=None,\n",
    "    #max_leaf_nodes=65,\n",
    "    #min_impurity_decrease=0.0005,\n",
    "    bootstrap=True,\n",
    "    oob_score=True,\n",
    "    n_jobs=-1,\n",
    "    random_state=42,\n",
    "    verbose=0,\n",
    "    warm_start=False,\n",
    "    #class_weight='balanced',\n",
    "    ccp_alpha=0.075,\n",
    "    max_samples=None\n",
    ")\n",
    "scores = cross_val_score(model, X, y, cv=5, scoring='accuracy')  # 5-fold cross-validation\n",
    "print(\"Cross-validation accuracy scores:\", scores)\n",
    "print(\"Mean accuracy:\", np.mean(scores))\n",
    "print(\"Standard deviation of accuracy:\", np.std(scores))\n",
    "model.fit(X, y)\n",
    "y_pred = model.predict(X)\n",
    "print('train accuracy' + str(accuracy_score(y_pred,y)))\n"
   ]
  },
  {
   "cell_type": "markdown",
   "id": "83909ffb",
   "metadata": {
    "papermill": {
     "duration": 0.004024,
     "end_time": "2024-06-23T12:44:20.302981",
     "exception": false,
     "start_time": "2024-06-23T12:44:20.298957",
     "status": "completed"
    },
    "tags": []
   },
   "source": [
    "1500"
   ]
  },
  {
   "cell_type": "markdown",
   "id": "2840141c",
   "metadata": {
    "papermill": {
     "duration": 0.00396,
     "end_time": "2024-06-23T12:44:20.311120",
     "exception": false,
     "start_time": "2024-06-23T12:44:20.307160",
     "status": "completed"
    },
    "tags": []
   },
   "source": [
    "0.6868201754385964  \n",
    "/0.7055482456140351   \n",
    "/0.7117763157894738\n",
    "\n",
    "/0.7139035087719299"
   ]
  },
  {
   "cell_type": "code",
   "execution_count": 10,
   "id": "49c43bf0",
   "metadata": {
    "execution": {
     "iopub.execute_input": "2024-06-23T12:44:20.321212Z",
     "iopub.status.busy": "2024-06-23T12:44:20.320807Z",
     "iopub.status.idle": "2024-06-23T12:44:21.914563Z",
     "shell.execute_reply": "2024-06-23T12:44:21.913246Z"
    },
    "papermill": {
     "duration": 1.601737,
     "end_time": "2024-06-23T12:44:21.917095",
     "exception": false,
     "start_time": "2024-06-23T12:44:20.315358",
     "status": "completed"
    },
    "tags": []
   },
   "outputs": [
    {
     "name": "stdout",
     "output_type": "stream",
     "text": [
      "0.7014613778705637\n"
     ]
    }
   ],
   "source": [
    "y_pred = model.predict(X)\n",
    "print(accuracy_score(y_pred,y))"
   ]
  },
  {
   "cell_type": "code",
   "execution_count": 11,
   "id": "ef5f2557",
   "metadata": {
    "execution": {
     "iopub.execute_input": "2024-06-23T12:44:21.928494Z",
     "iopub.status.busy": "2024-06-23T12:44:21.927464Z",
     "iopub.status.idle": "2024-06-23T12:44:23.783961Z",
     "shell.execute_reply": "2024-06-23T12:44:23.782556Z"
    },
    "papermill": {
     "duration": 1.864694,
     "end_time": "2024-06-23T12:44:23.786375",
     "exception": false,
     "start_time": "2024-06-23T12:44:21.921681",
     "status": "completed"
    },
    "tags": []
   },
   "outputs": [
    {
     "name": "stdout",
     "output_type": "stream",
     "text": [
      "                 condition_text\n",
      "day_id                         \n",
      "D0001             Partly Cloudy\n",
      "D0002             Partly Cloudy\n",
      "D0003   Light Rain with Thunder\n",
      "D0004           Clear and Sunny\n",
      "D0005           Clear and Sunny\n",
      "...                         ...\n",
      "D2889           Clear and Sunny\n",
      "D2890           Clear and Sunny\n",
      "D2891           Clear and Sunny\n",
      "D2892           Clear and Sunny\n",
      "D2893           Clear and Sunny\n",
      "\n",
      "[2893 rows x 1 columns]\n"
     ]
    }
   ],
   "source": [
    "y_pred = model.predict(X_test)\n",
    "daily_data.loc[daily_data['condition_text'].isna(), 'condition_text'] = y_pred\n",
    "submission['condition_text']= daily_data['condition_text']\n",
    "print(submission)\n",
    "submission.to_csv('submission.csv')"
   ]
  }
 ],
 "metadata": {
  "kaggle": {
   "accelerator": "none",
   "dataSources": [
    {
     "databundleVersionId": 8893623,
     "sourceId": 81888,
     "sourceType": "competition"
    }
   ],
   "dockerImageVersionId": 30732,
   "isGpuEnabled": false,
   "isInternetEnabled": true,
   "language": "python",
   "sourceType": "notebook"
  },
  "kernelspec": {
   "display_name": "Python 3",
   "language": "python",
   "name": "python3"
  },
  "language_info": {
   "codemirror_mode": {
    "name": "ipython",
    "version": 3
   },
   "file_extension": ".py",
   "mimetype": "text/x-python",
   "name": "python",
   "nbconvert_exporter": "python",
   "pygments_lexer": "ipython3",
   "version": "3.10.13"
  },
  "papermill": {
   "default_parameters": {},
   "duration": 100.094406,
   "end_time": "2024-06-23T12:44:24.411982",
   "environment_variables": {},
   "exception": null,
   "input_path": "__notebook__.ipynb",
   "output_path": "__notebook__.ipynb",
   "parameters": {},
   "start_time": "2024-06-23T12:42:44.317576",
   "version": "2.5.0"
  }
 },
 "nbformat": 4,
 "nbformat_minor": 5
}
